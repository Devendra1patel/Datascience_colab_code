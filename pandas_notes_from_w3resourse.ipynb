{
  "nbformat": 4,
  "nbformat_minor": 0,
  "metadata": {
    "colab": {
      "provenance": [],
      "authorship_tag": "ABX9TyMzRmt9tw0zSKFsStEvcNJb",
      "include_colab_link": true
    },
    "kernelspec": {
      "name": "python3",
      "display_name": "Python 3"
    },
    "language_info": {
      "name": "python"
    }
  },
  "cells": [
    {
      "cell_type": "markdown",
      "metadata": {
        "id": "view-in-github",
        "colab_type": "text"
      },
      "source": [
        "<a href=\"https://colab.research.google.com/github/Devendra1patel/Datascience_colab_code/blob/main/pandas_notes_from_w3resourse.ipynb\" target=\"_parent\"><img src=\"https://colab.research.google.com/assets/colab-badge.svg\" alt=\"Open In Colab\"/></a>"
      ]
    },
    {
      "cell_type": "markdown",
      "source": [
        "# **Pandas Data Cleaning and Preprocessing**"
      ],
      "metadata": {
        "id": "jl_VAIWpWs49"
      }
    },
    {
      "cell_type": "code",
      "execution_count": 46,
      "metadata": {
        "id": "iO4R0m4kTD56"
      },
      "outputs": [],
      "source": []
    },
    {
      "cell_type": "code",
      "source": [
        "# 7. Write a Pandas program to bin data into categories.\n",
        "\n",
        "import pandas as pd\n",
        "\n",
        "# Create a sample DataFrame with continuous values\n",
        "df = pd.DataFrame({\n",
        "    'Age': [25, 30, 22, 45, 35, 28, 40]\n",
        "})\n",
        "\n",
        "# Bin ages into categories: 'Young', 'Middle-aged', 'Old'\n",
        "bins = [0, 25, 35, 100]\n",
        "labels = ['Young', 'Middle-aged', 'Old']\n",
        "df['Age_Group'] = pd.cut(df['Age'], bins=bins, labels=labels)\n",
        "\n",
        "# Output the result\n",
        "print(df)\n"
      ],
      "metadata": {
        "colab": {
          "base_uri": "https://localhost:8080/"
        },
        "id": "Z0sXbeKDTQ7e",
        "outputId": "1a3c8956-1bb5-409c-e5df-eddfc0114085"
      },
      "execution_count": 47,
      "outputs": [
        {
          "output_type": "stream",
          "name": "stdout",
          "text": [
            "   Age    Age_Group\n",
            "0   25        Young\n",
            "1   30  Middle-aged\n",
            "2   22        Young\n",
            "3   45          Old\n",
            "4   35  Middle-aged\n",
            "5   28  Middle-aged\n",
            "6   40          Old\n"
          ]
        }
      ]
    },
    {
      "cell_type": "code",
      "source": [
        "# 8. Write a Pandas program that handles text data with str.replace().\n",
        "import pandas as pd\n",
        "\n",
        "# Create a sample DataFrame with messy text\n",
        "df = pd.DataFrame({\n",
        "    'Product': ['$50-Discount', '$100-Off', '$200-Rebate']\n",
        "})\n",
        "\n",
        "# Clean the text by removing special characters like '$' and '-'\n",
        "df['Product_Cleaned'] = df['Product'].str.replace('[$-]', '', regex=True)\n",
        "\n",
        "# Output the result\n",
        "print(df)"
      ],
      "metadata": {
        "id": "a9wfVmJnTQ4H",
        "colab": {
          "base_uri": "https://localhost:8080/"
        },
        "outputId": "74b3f2e4-d7be-4ca2-bfc4-8f86c94d0125"
      },
      "execution_count": 48,
      "outputs": [
        {
          "output_type": "stream",
          "name": "stdout",
          "text": [
            "        Product Product_Cleaned\n",
            "0  $50-Discount      50Discount\n",
            "1      $100-Off          100Off\n",
            "2   $200-Rebate       200Rebate\n"
          ]
        }
      ]
    },
    {
      "cell_type": "code",
      "source": [
        "# 9. Write a Pandas program to convert data types using astype().\n",
        "\n",
        "df = pd.DataFrame({\n",
        "    'ID': ['1', '2', '3'],\n",
        "    'Price': ['10.5', '20.0', '30.5']\n",
        "})\n",
        "\n",
        "# Convert 'ID' to integer and 'Price' to float\n",
        "df['ID'] = df['ID'].astype(int)\n",
        "df['Price'] = df['Price'].astype(float)\n",
        "\n",
        "# Output the result\n",
        "print(df)"
      ],
      "metadata": {
        "colab": {
          "base_uri": "https://localhost:8080/"
        },
        "id": "nlDYIETITQ0v",
        "outputId": "3afbdd90-1499-451d-e11c-3867c4384eed"
      },
      "execution_count": 49,
      "outputs": [
        {
          "output_type": "stream",
          "name": "stdout",
          "text": [
            "   ID  Price\n",
            "0   1   10.5\n",
            "1   2   20.0\n",
            "2   3   30.5\n"
          ]
        }
      ]
    },
    {
      "cell_type": "code",
      "source": [
        "# 10. Write a Pandas program to remove leading and trailing whitespace using str.strip().\n",
        "import pandas as pd\n",
        "\n",
        "# Create a sample DataFrame with extra whitespace\n",
        "df = pd.DataFrame({\n",
        "    'Name': [' Artair ', ' Pompiliu ', ' Gerry ']\n",
        "})\n",
        "\n",
        "# Remove leading and trailing whitespace\n",
        "df['Name_Cleaned'] = df['Name'].str.strip()\n",
        "\n",
        "# Output the result\n",
        "print(df)\n"
      ],
      "metadata": {
        "id": "WsCeEB0cTQxe",
        "colab": {
          "base_uri": "https://localhost:8080/"
        },
        "outputId": "60a804d8-f4bd-4c1a-bc2d-26652bb49c13"
      },
      "execution_count": 50,
      "outputs": [
        {
          "output_type": "stream",
          "name": "stdout",
          "text": [
            "         Name Name_Cleaned\n",
            "0     Artair        Artair\n",
            "1   Pompiliu      Pompiliu\n",
            "2      Gerry         Gerry\n"
          ]
        }
      ]
    },
    {
      "cell_type": "code",
      "source": [
        "# 11. Write a Pandas program to change column names to lowercase.\n",
        "import pandas as pd\n",
        "\n",
        "# Create a sample DataFrame with uppercase column names\n",
        "df = pd.DataFrame({\n",
        "    'Name': ['Selena', 'Annabel', 'Caeso'],\n",
        "    'Age': [25, 30, 22],\n",
        "    'Salary': [50000, 60000, 70000]\n",
        "})\n",
        "\n",
        "# Convert all column names to lowercase\n",
        "df.columns = df.columns.str.lower()\n",
        "\n",
        "# Output the result\n",
        "print(df)"
      ],
      "metadata": {
        "id": "BgTLVapaTQt2",
        "colab": {
          "base_uri": "https://localhost:8080/"
        },
        "outputId": "9f7d8b20-8f62-4d2b-d705-4be03b4f8920"
      },
      "execution_count": 51,
      "outputs": [
        {
          "output_type": "stream",
          "name": "stdout",
          "text": [
            "      name  age  salary\n",
            "0   Selena   25   50000\n",
            "1  Annabel   30   60000\n",
            "2    Caeso   22   70000\n"
          ]
        }
      ]
    },
    {
      "cell_type": "code",
      "source": [
        "# 12. Write a Pandas program to replacing missing data with mean value.\n",
        "import pandas as pd\n",
        "\n",
        "# Create a sample DataFrame with missing values\n",
        "df = pd.DataFrame({\n",
        "    'Name': ['Selena', 'Annabel', 'Caeso', 'David'],\n",
        "    'Age': [25, None, 22, None]\n",
        "})\n",
        "\n",
        "# Fill missing 'Age' values with the column's mean\n",
        "df['Age'].fillna(df['Age'].mean(), inplace=True)\n",
        "\n",
        "# Output the result\n",
        "print(df)"
      ],
      "metadata": {
        "id": "S9gbasDUTQqe",
        "colab": {
          "base_uri": "https://localhost:8080/"
        },
        "outputId": "d870d87c-9fef-49f3-c673-dd5ce629d8f5"
      },
      "execution_count": 52,
      "outputs": [
        {
          "output_type": "stream",
          "name": "stdout",
          "text": [
            "      Name   Age\n",
            "0   Selena  25.0\n",
            "1  Annabel  23.5\n",
            "2    Caeso  22.0\n",
            "3    David  23.5\n"
          ]
        },
        {
          "output_type": "stream",
          "name": "stderr",
          "text": [
            "<ipython-input-52-d961f3e8eb59>:11: FutureWarning: A value is trying to be set on a copy of a DataFrame or Series through chained assignment using an inplace method.\n",
            "The behavior will change in pandas 3.0. This inplace method will never work because the intermediate object on which we are setting values always behaves as a copy.\n",
            "\n",
            "For example, when doing 'df[col].method(value, inplace=True)', try using 'df.method({col: value}, inplace=True)' or df[col] = df[col].method(value) instead, to perform the operation inplace on the original object.\n",
            "\n",
            "\n",
            "  df['Age'].fillna(df['Age'].mean(), inplace=True)\n"
          ]
        }
      ]
    },
    {
      "cell_type": "code",
      "source": [
        "# 13. Write a Pandas program to remove columns with too many missing values.\n",
        "import pandas as pd\n",
        "\n",
        "# Create a sample DataFrame with missing values\n",
        "df = pd.DataFrame({\n",
        "    'Name': ['Selena', 'Annabel', 'Caeso'],\n",
        "    'Age': [25, None, 22],\n",
        "    'Salary': [None, None, 70000]\n",
        "})\n",
        "\n",
        "# Remove columns with more than 50% missing values\n",
        "df_cleaned = df.dropna(thresh=2, axis=1)\n",
        "\n",
        "# Output the result\n",
        "print(df_cleaned)\n"
      ],
      "metadata": {
        "colab": {
          "base_uri": "https://localhost:8080/"
        },
        "id": "p9eDFKQWTQje",
        "outputId": "33618643-60d7-41c0-b162-09d6d7626475"
      },
      "execution_count": 53,
      "outputs": [
        {
          "output_type": "stream",
          "name": "stdout",
          "text": [
            "      Name   Age\n",
            "0   Selena  25.0\n",
            "1  Annabel   NaN\n",
            "2    Caeso  22.0\n"
          ]
        }
      ]
    },
    {
      "cell_type": "code",
      "source": [
        "# 14. Write a Pandas program to reorder columns in a DataFrame.\n",
        "import pandas as pd\n",
        "\n",
        "# Create a sample DataFrame with mixed column order\n",
        "df = pd.DataFrame({\n",
        "    'Age': [25, 30, 22],\n",
        "    'Name': ['Selena', 'Annabel', 'Caeso'],\n",
        "    'Salary': [50000, 60000, 70000]\n",
        "})\n",
        "\n",
        "# Reorder columns to 'Name', 'Age', 'Salary'\n",
        "df_reordered = df[['Name', 'Age', 'Salary']]\n",
        "\n",
        "# Output the result\n",
        "print(df_reordered)"
      ],
      "metadata": {
        "colab": {
          "base_uri": "https://localhost:8080/"
        },
        "id": "-F3OT2SMTQaW",
        "outputId": "3daf170a-16a1-4e88-893f-9bcf152c5fe3"
      },
      "execution_count": 54,
      "outputs": [
        {
          "output_type": "stream",
          "name": "stdout",
          "text": [
            "      Name  Age  Salary\n",
            "0   Selena   25   50000\n",
            "1  Annabel   30   60000\n",
            "2    Caeso   22   70000\n"
          ]
        }
      ]
    },
    {
      "cell_type": "code",
      "source": [
        "# 15. Write a Pandas program to split a column into multiple columns.\n",
        "import pandas as pd\n",
        "\n",
        "# Create a sample DataFrame with combined data in one column\n",
        "df = pd.DataFrame({\n",
        "    'Full_Name': ['Artair Mpho', 'Pompiliu Ukko', 'Gerry Sigismund']\n",
        "})\n",
        "\n",
        "# Split the 'Full_Name' column into 'First_Name' and 'Last_Name'\n",
        "df[['First_Name', 'Last_Name']] = df['Full_Name'].str.split(' ', expand=True)\n",
        "\n",
        "# Output the result\n",
        "print(df)"
      ],
      "metadata": {
        "colab": {
          "base_uri": "https://localhost:8080/"
        },
        "id": "QQHYRYEETQXe",
        "outputId": "017c50c9-7562-4337-a70f-cf5e7f0e3cbe"
      },
      "execution_count": 55,
      "outputs": [
        {
          "output_type": "stream",
          "name": "stdout",
          "text": [
            "         Full_Name First_Name  Last_Name\n",
            "0      Artair Mpho     Artair       Mpho\n",
            "1    Pompiliu Ukko   Pompiliu       Ukko\n",
            "2  Gerry Sigismund      Gerry  Sigismund\n"
          ]
        }
      ]
    },
    {
      "cell_type": "code",
      "source": [],
      "metadata": {
        "id": "TSs1KmZaTQRy"
      },
      "execution_count": 55,
      "outputs": []
    },
    {
      "cell_type": "markdown",
      "source": [
        "# **Pandas Joining and merging DataFrame**"
      ],
      "metadata": {
        "id": "Wj7rvou-YQnk"
      }
    },
    {
      "cell_type": "code",
      "source": [
        "# 1. Write a Pandas program to join the two given dataframes along rows and assign all data.\n",
        "import pandas as pd\n",
        "\n",
        "student_data1 = pd.DataFrame({\n",
        "        'student_id': ['S1', 'S2', 'S3', 'S4', 'S5'],\n",
        "         'name': ['Danniella Fenton', 'Ryder Storey', 'Bryce Jensen', 'Ed Bernal', 'Kwame Morin'],\n",
        "        'marks': [200, 210, 190, 222, 199]})\n",
        "\n",
        "student_data2 = pd.DataFrame({\n",
        "        'student_id': ['S4', 'S5', 'S6', 'S7', 'S8'],\n",
        "        'name': ['Scarlette Fisher', 'Carla Williamson', 'Dante Morse', 'Kaiser William', 'Madeeha Preston'],\n",
        "        'marks': [201, 200, 198, 219, 201]})\n",
        "\n",
        "print(\"Original DataFrames:\")\n",
        "print(student_data1)\n",
        "print(\"-------------------------------------\")\n",
        "print(student_data2)\n",
        "print(\"\\nJoin the said two dataframes along rows:\")\n",
        "result_data = pd.concat([student_data1, student_data2])\n",
        "print(result_data)\n"
      ],
      "metadata": {
        "colab": {
          "base_uri": "https://localhost:8080/"
        },
        "id": "Zr0DN3FvTQO2",
        "outputId": "a6b2fb72-7b33-4673-a6c1-432e13d36b53"
      },
      "execution_count": 56,
      "outputs": [
        {
          "output_type": "stream",
          "name": "stdout",
          "text": [
            "Original DataFrames:\n",
            "  student_id              name  marks\n",
            "0         S1  Danniella Fenton    200\n",
            "1         S2      Ryder Storey    210\n",
            "2         S3      Bryce Jensen    190\n",
            "3         S4         Ed Bernal    222\n",
            "4         S5       Kwame Morin    199\n",
            "-------------------------------------\n",
            "  student_id              name  marks\n",
            "0         S4  Scarlette Fisher    201\n",
            "1         S5  Carla Williamson    200\n",
            "2         S6       Dante Morse    198\n",
            "3         S7    Kaiser William    219\n",
            "4         S8   Madeeha Preston    201\n",
            "\n",
            "Join the said two dataframes along rows:\n",
            "  student_id              name  marks\n",
            "0         S1  Danniella Fenton    200\n",
            "1         S2      Ryder Storey    210\n",
            "2         S3      Bryce Jensen    190\n",
            "3         S4         Ed Bernal    222\n",
            "4         S5       Kwame Morin    199\n",
            "0         S4  Scarlette Fisher    201\n",
            "1         S5  Carla Williamson    200\n",
            "2         S6       Dante Morse    198\n",
            "3         S7    Kaiser William    219\n",
            "4         S8   Madeeha Preston    201\n"
          ]
        }
      ]
    },
    {
      "cell_type": "code",
      "source": [
        "import pandas as pd\n",
        "\n",
        "student_data1 = pd.DataFrame({\n",
        "        'student_id': ['S1', 'S2', 'S3', 'S4', 'S5'],\n",
        "         'name': ['Danniella Fenton', 'Ryder Storey', 'Bryce Jensen', 'Ed Bernal', 'Kwame Morin'],\n",
        "        'marks': [200, 210, 190, 222, 199]})\n",
        "\n",
        "student_data2 = pd.DataFrame({\n",
        "        'student_id': ['S4', 'S5', 'S6', 'S7', 'S8'],\n",
        "        'name': ['Scarlette Fisher', 'Carla Williamson', 'Dante Morse', 'Kaiser William', 'Madeeha Preston'],\n",
        "        'marks': [201, 200, 198, 219, 201]})\n",
        "\n",
        "print(student_data1)\n",
        "print(\"-------------------------------------\")\n",
        "print(student_data2)\n",
        "result_data = pd.concat([student_data1, student_data2], axis = 1)\n",
        "print(result_data)\n"
      ],
      "metadata": {
        "colab": {
          "base_uri": "https://localhost:8080/"
        },
        "id": "nKfPzyu5TQL3",
        "outputId": "35eb2a5a-0e85-4b04-dbee-19b6a3a5f8b7"
      },
      "execution_count": 57,
      "outputs": [
        {
          "output_type": "stream",
          "name": "stdout",
          "text": [
            "  student_id              name  marks\n",
            "0         S1  Danniella Fenton    200\n",
            "1         S2      Ryder Storey    210\n",
            "2         S3      Bryce Jensen    190\n",
            "3         S4         Ed Bernal    222\n",
            "4         S5       Kwame Morin    199\n",
            "-------------------------------------\n",
            "  student_id              name  marks\n",
            "0         S4  Scarlette Fisher    201\n",
            "1         S5  Carla Williamson    200\n",
            "2         S6       Dante Morse    198\n",
            "3         S7    Kaiser William    219\n",
            "4         S8   Madeeha Preston    201\n",
            "  student_id              name  marks student_id              name  marks\n",
            "0         S1  Danniella Fenton    200         S4  Scarlette Fisher    201\n",
            "1         S2      Ryder Storey    210         S5  Carla Williamson    200\n",
            "2         S3      Bryce Jensen    190         S6       Dante Morse    198\n",
            "3         S4         Ed Bernal    222         S7    Kaiser William    219\n",
            "4         S5       Kwame Morin    199         S8   Madeeha Preston    201\n"
          ]
        }
      ]
    },
    {
      "cell_type": "code",
      "source": [
        "# 3. Write a Pandas program to append rows to an existing DataFrame and display the combined data.\n",
        "import pandas as pd\n",
        "student_data1 = pd.DataFrame({\n",
        "        'student_id': ['S1', 'S2', 'S3', 'S4', 'S5'],\n",
        "         'name': ['Danniella Fenton', 'Ryder Storey', 'Bryce Jensen', 'Ed Bernal', 'Kwame Morin'],\n",
        "        'marks': [200, 210, 190, 222, 199]})\n",
        "\n",
        "s6 = pd.Series(['S6', 'Scarlette Fisher', 205], index=['student_id', 'name', 'marks'])\n",
        "print(\"Original DataFrames:\")\n",
        "print(student_data1)\n",
        "print(\"\\nNew Row(s)\")\n",
        "print(s6)\n",
        "# combined_data = student_data1.append(s6, ignore_index = True)\n",
        "print(\"\\nCombined Data:\")\n",
        "# print(combined_data)\n"
      ],
      "metadata": {
        "colab": {
          "base_uri": "https://localhost:8080/"
        },
        "id": "IXwks-rbTQIm",
        "outputId": "64e978a4-5851-4311-9efa-fecd1e552a23"
      },
      "execution_count": 58,
      "outputs": [
        {
          "output_type": "stream",
          "name": "stdout",
          "text": [
            "Original DataFrames:\n",
            "  student_id              name  marks\n",
            "0         S1  Danniella Fenton    200\n",
            "1         S2      Ryder Storey    210\n",
            "2         S3      Bryce Jensen    190\n",
            "3         S4         Ed Bernal    222\n",
            "4         S5       Kwame Morin    199\n",
            "\n",
            "New Row(s)\n",
            "student_id                  S6\n",
            "name          Scarlette Fisher\n",
            "marks                      205\n",
            "dtype: object\n",
            "\n",
            "Combined Data:\n"
          ]
        }
      ]
    },
    {
      "cell_type": "code",
      "source": [
        "# 4. Write a Pandas program to append a list of dictioneries or series to a existing DataFrame and display the combined data.\n",
        "import pandas as pd\n",
        "student_data1  = pd.DataFrame({\n",
        "        'student_id': ['S1', 'S2', 'S3', 'S4', 'S5'],\n",
        "         'name': ['Danniella Fenton', 'Ryder Storey', 'Bryce Jensen', 'Ed Bernal', 'Kwame Morin'],\n",
        "        'marks': [200, 210, 190, 222, 199]})\n",
        "\n",
        "s6 = pd.Series(['S6', 'Scarlette Fisher', 205], index=['student_id', 'name', 'marks'])\n",
        "\n",
        "\n",
        "dicts = [{'student_id': 'S6', 'name': 'Scarlette Fisher', 'marks': 203},\n",
        "         {'student_id': 'S7', 'name': 'Bryce Jensen', 'marks': 207}]\n",
        "\n",
        "print(\"Original DataFrames:\")\n",
        "print(student_data1)\n",
        "print(\"\\nDictionary:\")\n",
        "print(s6)\n",
        "# combined_data =  student_data1.append(dicts, ignore_index=True, sort=False)\n",
        "print(\"\\nCombined Data:\")\n",
        "# print(combined_data)\n"
      ],
      "metadata": {
        "id": "8X8xTepqTQCP",
        "colab": {
          "base_uri": "https://localhost:8080/"
        },
        "outputId": "e28ad2bb-a301-43dc-d704-32fba4805ec3"
      },
      "execution_count": 59,
      "outputs": [
        {
          "output_type": "stream",
          "name": "stdout",
          "text": [
            "Original DataFrames:\n",
            "  student_id              name  marks\n",
            "0         S1  Danniella Fenton    200\n",
            "1         S2      Ryder Storey    210\n",
            "2         S3      Bryce Jensen    190\n",
            "3         S4         Ed Bernal    222\n",
            "4         S5       Kwame Morin    199\n",
            "\n",
            "Dictionary:\n",
            "student_id                  S6\n",
            "name          Scarlette Fisher\n",
            "marks                      205\n",
            "dtype: object\n",
            "\n",
            "Combined Data:\n"
          ]
        }
      ]
    },
    {
      "cell_type": "code",
      "source": [
        "# 5. Write a Pandas program to join the two given dataframes along rows and merge with another dataframe along the common column id.\n",
        "import pandas as pd\n",
        "student_data1 = pd.DataFrame({\n",
        "        'student_id': ['S1', 'S2', 'S3', 'S4', 'S5'],\n",
        "         'name': ['Danniella Fenton', 'Ryder Storey', 'Bryce Jensen', 'Ed Bernal', 'Kwame Morin'],\n",
        "        'marks': [200, 210, 190, 222, 199]})\n",
        "\n",
        "student_data2 = pd.DataFrame({\n",
        "        'student_id': ['S4', 'S5', 'S6', 'S7', 'S8'],\n",
        "        'name': ['Scarlette Fisher', 'Carla Williamson', 'Dante Morse', 'Kaiser William', 'Madeeha Preston'],\n",
        "        'marks': [201, 200, 198, 219, 201]})\n",
        "\n",
        "exam_data = pd.DataFrame({\n",
        "        'student_id': ['S1', 'S2', 'S3', 'S4', 'S5', 'S7', 'S8', 'S9', 'S10', 'S11', 'S12', 'S13'],\n",
        "        'exam_id': [23, 45, 12, 67, 21, 55, 33, 14, 56, 83, 88, 12]})\n",
        "\n",
        "print(\"Original DataFrames:\")\n",
        "print(student_data1)\n",
        "print(student_data2)\n",
        "print(exam_data)\n",
        "\n",
        "print(\"\\nJoin first two said dataframes along rows:\")\n",
        "result_data = pd.concat([student_data1, student_data2])\n",
        "print(result_data)\n",
        "\n",
        "print(\"\\nNow join the said result_data and df_exam_data along student_id:\")\n",
        "final_merged_data = pd.merge(result_data, exam_data, on='student_id')\n",
        "print(final_merged_data)\n"
      ],
      "metadata": {
        "id": "XH-c0y_lTP7_",
        "colab": {
          "base_uri": "https://localhost:8080/"
        },
        "outputId": "1b4dd995-3473-4a49-b65f-0c320f27b6fa"
      },
      "execution_count": 60,
      "outputs": [
        {
          "output_type": "stream",
          "name": "stdout",
          "text": [
            "Original DataFrames:\n",
            "  student_id              name  marks\n",
            "0         S1  Danniella Fenton    200\n",
            "1         S2      Ryder Storey    210\n",
            "2         S3      Bryce Jensen    190\n",
            "3         S4         Ed Bernal    222\n",
            "4         S5       Kwame Morin    199\n",
            "  student_id              name  marks\n",
            "0         S4  Scarlette Fisher    201\n",
            "1         S5  Carla Williamson    200\n",
            "2         S6       Dante Morse    198\n",
            "3         S7    Kaiser William    219\n",
            "4         S8   Madeeha Preston    201\n",
            "   student_id  exam_id\n",
            "0          S1       23\n",
            "1          S2       45\n",
            "2          S3       12\n",
            "3          S4       67\n",
            "4          S5       21\n",
            "5          S7       55\n",
            "6          S8       33\n",
            "7          S9       14\n",
            "8         S10       56\n",
            "9         S11       83\n",
            "10        S12       88\n",
            "11        S13       12\n",
            "\n",
            "Join first two said dataframes along rows:\n",
            "  student_id              name  marks\n",
            "0         S1  Danniella Fenton    200\n",
            "1         S2      Ryder Storey    210\n",
            "2         S3      Bryce Jensen    190\n",
            "3         S4         Ed Bernal    222\n",
            "4         S5       Kwame Morin    199\n",
            "0         S4  Scarlette Fisher    201\n",
            "1         S5  Carla Williamson    200\n",
            "2         S6       Dante Morse    198\n",
            "3         S7    Kaiser William    219\n",
            "4         S8   Madeeha Preston    201\n",
            "\n",
            "Now join the said result_data and df_exam_data along student_id:\n",
            "  student_id              name  marks  exam_id\n",
            "0         S1  Danniella Fenton    200       23\n",
            "1         S2      Ryder Storey    210       45\n",
            "2         S3      Bryce Jensen    190       12\n",
            "3         S4         Ed Bernal    222       67\n",
            "4         S5       Kwame Morin    199       21\n",
            "5         S4  Scarlette Fisher    201       67\n",
            "6         S5  Carla Williamson    200       21\n",
            "7         S7    Kaiser William    219       55\n",
            "8         S8   Madeeha Preston    201       33\n"
          ]
        }
      ]
    },
    {
      "cell_type": "code",
      "source": [
        "# 6. Write a Pandas program to join the two dataframes using the common column of both dataframes.\n",
        "import pandas as pd\n",
        "student_data1 = pd.DataFrame({\n",
        "        'student_id': ['S1', 'S2', 'S3', 'S4', 'S5'],\n",
        "         'name': ['Danniella Fenton', 'Ryder Storey', 'Bryce Jensen', 'Ed Bernal', 'Kwame Morin'],\n",
        "        'marks': [200, 210, 190, 222, 199]})\n",
        "\n",
        "student_data2 = pd.DataFrame({\n",
        "        'student_id': ['S4', 'S5', 'S6', 'S7', 'S8'],\n",
        "        'name': ['Scarlette Fisher', 'Carla Williamson', 'Dante Morse', 'Kaiser William', 'Madeeha Preston'],\n",
        "        'marks': [201, 200, 198, 219, 201]})\n",
        "\n",
        "print(\"Original DataFrames:\")\n",
        "print(student_data1)\n",
        "print(student_data2)\n",
        "merged_data = pd.merge(student_data1, student_data2, on='student_id', how='inner')\n",
        "print(\"Merged data (inner join):\")\n",
        "print(merged_data)\n"
      ],
      "metadata": {
        "id": "gdEavYCtTP44",
        "colab": {
          "base_uri": "https://localhost:8080/"
        },
        "outputId": "44f5c402-30ef-499a-a621-a9a30148fb0e"
      },
      "execution_count": 61,
      "outputs": [
        {
          "output_type": "stream",
          "name": "stdout",
          "text": [
            "Original DataFrames:\n",
            "  student_id              name  marks\n",
            "0         S1  Danniella Fenton    200\n",
            "1         S2      Ryder Storey    210\n",
            "2         S3      Bryce Jensen    190\n",
            "3         S4         Ed Bernal    222\n",
            "4         S5       Kwame Morin    199\n",
            "  student_id              name  marks\n",
            "0         S4  Scarlette Fisher    201\n",
            "1         S5  Carla Williamson    200\n",
            "2         S6       Dante Morse    198\n",
            "3         S7    Kaiser William    219\n",
            "4         S8   Madeeha Preston    201\n",
            "Merged data (inner join):\n",
            "  student_id       name_x  marks_x            name_y  marks_y\n",
            "0         S4    Ed Bernal      222  Scarlette Fisher      201\n",
            "1         S5  Kwame Morin      199  Carla Williamson      200\n"
          ]
        }
      ]
    },
    {
      "cell_type": "code",
      "source": [
        "# 7. Write a Pandas program to join the two dataframes with matching records from both sides where available.\n",
        "import pandas as pd\n",
        "student_data1 = pd.DataFrame({\n",
        "        'student_id': ['S1', 'S2', 'S3', 'S4', 'S5'],\n",
        "         'name': ['Danniella Fenton', 'Ryder Storey', 'Bryce Jensen', 'Ed Bernal', 'Kwame Morin'],\n",
        "        'marks': [200, 210, 190, 222, 199]})\n",
        "\n",
        "student_data2 = pd.DataFrame({\n",
        "        'student_id': ['S4', 'S5', 'S6', 'S7', 'S8'],\n",
        "        'name': ['Scarlette Fisher', 'Carla Williamson', 'Dante Morse', 'Kaiser William', 'Madeeha Preston'],\n",
        "        'marks': [201, 200, 198, 219, 201]})\n",
        "\n",
        "print(\"Original DataFrames:\")\n",
        "print(student_data1)\n",
        "print(student_data2)\n",
        "merged_data = pd.merge(student_data1, student_data2, on='student_id', how='outer')\n",
        "print(\"Merged data (outer join):\")\n",
        "print(merged_data)\n"
      ],
      "metadata": {
        "id": "s-aVXGWHTPy-",
        "colab": {
          "base_uri": "https://localhost:8080/"
        },
        "outputId": "2c89779b-ec7b-42bd-97f8-bbeb3385680b"
      },
      "execution_count": 62,
      "outputs": [
        {
          "output_type": "stream",
          "name": "stdout",
          "text": [
            "Original DataFrames:\n",
            "  student_id              name  marks\n",
            "0         S1  Danniella Fenton    200\n",
            "1         S2      Ryder Storey    210\n",
            "2         S3      Bryce Jensen    190\n",
            "3         S4         Ed Bernal    222\n",
            "4         S5       Kwame Morin    199\n",
            "  student_id              name  marks\n",
            "0         S4  Scarlette Fisher    201\n",
            "1         S5  Carla Williamson    200\n",
            "2         S6       Dante Morse    198\n",
            "3         S7    Kaiser William    219\n",
            "4         S8   Madeeha Preston    201\n",
            "Merged data (outer join):\n",
            "  student_id            name_x  marks_x            name_y  marks_y\n",
            "0         S1  Danniella Fenton    200.0               NaN      NaN\n",
            "1         S2      Ryder Storey    210.0               NaN      NaN\n",
            "2         S3      Bryce Jensen    190.0               NaN      NaN\n",
            "3         S4         Ed Bernal    222.0  Scarlette Fisher    201.0\n",
            "4         S5       Kwame Morin    199.0  Carla Williamson    200.0\n",
            "5         S6               NaN      NaN       Dante Morse    198.0\n",
            "6         S7               NaN      NaN    Kaiser William    219.0\n",
            "7         S8               NaN      NaN   Madeeha Preston    201.0\n"
          ]
        }
      ]
    },
    {
      "cell_type": "code",
      "source": [
        "# 8. Write a Pandas program to join (left join) the two dataframes using keys from left dataframe only.\n",
        "import pandas as pd\n",
        "data1 = pd.DataFrame({'key1': ['K0', 'K0', 'K1', 'K2'],\n",
        "                     'key2': ['K0', 'K1', 'K0', 'K1'],\n",
        "                     'P': ['P0', 'P1', 'P2', 'P3'],\n",
        "                     'Q': ['Q0', 'Q1', 'Q2', 'Q3']})\n",
        "data2 = pd.DataFrame({'key1': ['K0', 'K1', 'K1', 'K2'],\n",
        "                      'key2': ['K0', 'K0', 'K0', 'K0'],\n",
        "                      'R': ['R0', 'R1', 'R2', 'R3'],\n",
        "                      'S': ['S0', 'S1', 'S2', 'S3']})\n",
        "print(\"Original DataFrames:\")\n",
        "print(data1)\n",
        "print(\"--------------------\")\n",
        "print(data2)\n",
        "print(\"\\nMerged Data (keys from data1):\")\n",
        "merged_data = pd.merge(data1, data2, how='left', on=['key1', 'key2'])\n",
        "print(merged_data)\n",
        "print(\"\\nMerged Data (keys from data2):\")\n",
        "merged_data = pd.merge(data2, data1, how='left', on=['key1', 'key2'])\n",
        "print(merged_data)\n"
      ],
      "metadata": {
        "id": "RqOuHECTTPvf",
        "colab": {
          "base_uri": "https://localhost:8080/"
        },
        "outputId": "feb21958-fb22-4664-9cff-22f94116ccc5"
      },
      "execution_count": 63,
      "outputs": [
        {
          "output_type": "stream",
          "name": "stdout",
          "text": [
            "Original DataFrames:\n",
            "  key1 key2   P   Q\n",
            "0   K0   K0  P0  Q0\n",
            "1   K0   K1  P1  Q1\n",
            "2   K1   K0  P2  Q2\n",
            "3   K2   K1  P3  Q3\n",
            "--------------------\n",
            "  key1 key2   R   S\n",
            "0   K0   K0  R0  S0\n",
            "1   K1   K0  R1  S1\n",
            "2   K1   K0  R2  S2\n",
            "3   K2   K0  R3  S3\n",
            "\n",
            "Merged Data (keys from data1):\n",
            "  key1 key2   P   Q    R    S\n",
            "0   K0   K0  P0  Q0   R0   S0\n",
            "1   K0   K1  P1  Q1  NaN  NaN\n",
            "2   K1   K0  P2  Q2   R1   S1\n",
            "3   K1   K0  P2  Q2   R2   S2\n",
            "4   K2   K1  P3  Q3  NaN  NaN\n",
            "\n",
            "Merged Data (keys from data2):\n",
            "  key1 key2   R   S    P    Q\n",
            "0   K0   K0  R0  S0   P0   Q0\n",
            "1   K1   K0  R1  S1   P2   Q2\n",
            "2   K1   K0  R2  S2   P2   Q2\n",
            "3   K2   K0  R3  S3  NaN  NaN\n"
          ]
        }
      ]
    },
    {
      "cell_type": "code",
      "source": [
        "# 9. Write a Pandas program to join two dataframes using keys from right dataframe only.\n",
        "import pandas as pd\n",
        "data1 = pd.DataFrame({'key1': ['K0', 'K0', 'K1', 'K2'],\n",
        "                     'key2': ['K0', 'K1', 'K0', 'K1'],\n",
        "                     'P': ['P0', 'P1', 'P2', 'P3'],\n",
        "                     'Q': ['Q0', 'Q1', 'Q2', 'Q3']})\n",
        "data2 = pd.DataFrame({'key1': ['K0', 'K1', 'K1', 'K2'],\n",
        "                      'key2': ['K0', 'K0', 'K0', 'K0'],\n",
        "                      'R': ['R0', 'R1', 'R2', 'R3'],\n",
        "                      'S': ['S0', 'S1', 'S2', 'S3']})\n",
        "print(\"Original DataFrames:\")\n",
        "print(data1)\n",
        "print(\"--------------------\")\n",
        "print(data2)\n",
        "print(\"\\nMerged Data (keys from data2):\")\n",
        "merged_data = pd.merge(data1, data2, how='right', on=['key1', 'key2'])\n",
        "print(merged_data)\n",
        "print(\"\\nMerged Data (keys from data1):\")\n",
        "merged_data = pd.merge(data2, data1, how='right', on=['key1', 'key2'])\n",
        "print(merged_data)\n"
      ],
      "metadata": {
        "id": "3lbkgBRITPsO",
        "colab": {
          "base_uri": "https://localhost:8080/"
        },
        "outputId": "7dc0a8da-c897-4ea3-c751-ddc5bf6983a2"
      },
      "execution_count": 64,
      "outputs": [
        {
          "output_type": "stream",
          "name": "stdout",
          "text": [
            "Original DataFrames:\n",
            "  key1 key2   P   Q\n",
            "0   K0   K0  P0  Q0\n",
            "1   K0   K1  P1  Q1\n",
            "2   K1   K0  P2  Q2\n",
            "3   K2   K1  P3  Q3\n",
            "--------------------\n",
            "  key1 key2   R   S\n",
            "0   K0   K0  R0  S0\n",
            "1   K1   K0  R1  S1\n",
            "2   K1   K0  R2  S2\n",
            "3   K2   K0  R3  S3\n",
            "\n",
            "Merged Data (keys from data2):\n",
            "  key1 key2    P    Q   R   S\n",
            "0   K0   K0   P0   Q0  R0  S0\n",
            "1   K1   K0   P2   Q2  R1  S1\n",
            "2   K1   K0   P2   Q2  R2  S2\n",
            "3   K2   K0  NaN  NaN  R3  S3\n",
            "\n",
            "Merged Data (keys from data1):\n",
            "  key1 key2    R    S   P   Q\n",
            "0   K0   K0   R0   S0  P0  Q0\n",
            "1   K0   K1  NaN  NaN  P1  Q1\n",
            "2   K1   K0   R1   S1  P2  Q2\n",
            "3   K1   K0   R2   S2  P2  Q2\n",
            "4   K2   K1  NaN  NaN  P3  Q3\n"
          ]
        }
      ]
    },
    {
      "cell_type": "code",
      "source": [
        "# 10. Write a Pandas program to merge two given datasets using multiple join keys.\n",
        "import pandas as pd\n",
        "data1 = pd.DataFrame({'key1': ['K0', 'K0', 'K1', 'K2'],\n",
        "                     'key2': ['K0', 'K1', 'K0', 'K1'],\n",
        "                     'P': ['P0', 'P1', 'P2', 'P3'],\n",
        "                     'Q': ['Q0', 'Q1', 'Q2', 'Q3']})\n",
        "data2 = pd.DataFrame({'key1': ['K0', 'K1', 'K1', 'K2'],\n",
        "                      'key2': ['K0', 'K0', 'K0', 'K0'],\n",
        "                      'R': ['R0', 'R1', 'R2', 'R3'],\n",
        "                      'S': ['S0', 'S1', 'S2', 'S3']})\n",
        "print(\"Original DataFrames:\")\n",
        "print(data1)\n",
        "print(\"--------------------\")\n",
        "print(data2)\n",
        "print(\"\\nMerged Data:\")\n",
        "merged_data = pd.merge(data1, data2, on=['key1', 'key2'])\n",
        "print(merged_data)\n"
      ],
      "metadata": {
        "id": "11WG6MUVTPpG",
        "colab": {
          "base_uri": "https://localhost:8080/"
        },
        "outputId": "d48eb53c-9805-4b43-e2dd-f1415fb62b1e"
      },
      "execution_count": 65,
      "outputs": [
        {
          "output_type": "stream",
          "name": "stdout",
          "text": [
            "Original DataFrames:\n",
            "  key1 key2   P   Q\n",
            "0   K0   K0  P0  Q0\n",
            "1   K0   K1  P1  Q1\n",
            "2   K1   K0  P2  Q2\n",
            "3   K2   K1  P3  Q3\n",
            "--------------------\n",
            "  key1 key2   R   S\n",
            "0   K0   K0  R0  S0\n",
            "1   K1   K0  R1  S1\n",
            "2   K1   K0  R2  S2\n",
            "3   K2   K0  R3  S3\n",
            "\n",
            "Merged Data:\n",
            "  key1 key2   P   Q   R   S\n",
            "0   K0   K0  P0  Q0  R0  S0\n",
            "1   K1   K0  P2  Q2  R1  S1\n",
            "2   K1   K0  P2  Q2  R2  S2\n"
          ]
        }
      ]
    },
    {
      "cell_type": "code",
      "source": [
        "# 11. Write a Pandas program to create a new DataFrame based on existing series, using specified argument and override the existing columns names.\n",
        "import pandas as pd\n",
        "s1 = pd.Series([0, 1, 2, 3], name='col1')\n",
        "s2 = pd.Series([0, 1, 2, 3])\n",
        "s3 = pd.Series([0, 1, 4, 5], name='col3')\n",
        "df = pd.concat([s1, s2, s3], axis=1, keys=['column1', 'column2', 'column3'])\n",
        "print(df)\n"
      ],
      "metadata": {
        "id": "hp3f0IsXTPi2",
        "colab": {
          "base_uri": "https://localhost:8080/"
        },
        "outputId": "d4f1bfaf-28b3-48f5-9e76-7b4576e5eb18"
      },
      "execution_count": 66,
      "outputs": [
        {
          "output_type": "stream",
          "name": "stdout",
          "text": [
            "   column1  column2  column3\n",
            "0        0        0        0\n",
            "1        1        1        1\n",
            "2        2        2        4\n",
            "3        3        3        5\n"
          ]
        }
      ]
    },
    {
      "cell_type": "code",
      "source": [
        "# 12. Write a Pandas program to create a combination from two dataframes where a column id combination appears more than once in both dataframes.\n",
        "import pandas as pd\n",
        "data1 = pd.DataFrame({'key1': ['K0', 'K0', 'K1', 'K2'],\n",
        "                     'key2': ['K0', 'K1', 'K0', 'K1'],\n",
        "                     'P': ['P0', 'P1', 'P2', 'P3'],\n",
        "                     'Q': ['Q0', 'Q1', 'Q2', 'Q3']})\n",
        "data2 = pd.DataFrame({'key1': ['K0', 'K1', 'K1', 'K2'],\n",
        "                      'key2': ['K0', 'K0', 'K0', 'K0'],\n",
        "                      'R': ['R0', 'R1', 'R2', 'R3'],\n",
        "                      'S': ['S0', 'S1', 'S2', 'S3']})\n",
        "print(\"Original DataFrames:\")\n",
        "print(data1)\n",
        "print(\"--------------------\")\n",
        "print(data2)\n",
        "print(\"\\nMerged Data (many-to-many join case):\")\n",
        "result = pd.merge(data1, data2, on='key1')\n",
        "print(result)\n"
      ],
      "metadata": {
        "id": "ziLK5TOmHDBH",
        "colab": {
          "base_uri": "https://localhost:8080/"
        },
        "outputId": "76f697a2-6ad7-49ce-de93-700bce9be835"
      },
      "execution_count": 67,
      "outputs": [
        {
          "output_type": "stream",
          "name": "stdout",
          "text": [
            "Original DataFrames:\n",
            "  key1 key2   P   Q\n",
            "0   K0   K0  P0  Q0\n",
            "1   K0   K1  P1  Q1\n",
            "2   K1   K0  P2  Q2\n",
            "3   K2   K1  P3  Q3\n",
            "--------------------\n",
            "  key1 key2   R   S\n",
            "0   K0   K0  R0  S0\n",
            "1   K1   K0  R1  S1\n",
            "2   K1   K0  R2  S2\n",
            "3   K2   K0  R3  S3\n",
            "\n",
            "Merged Data (many-to-many join case):\n",
            "  key1 key2_x   P   Q key2_y   R   S\n",
            "0   K0     K0  P0  Q0     K0  R0  S0\n",
            "1   K0     K1  P1  Q1     K0  R0  S0\n",
            "2   K1     K0  P2  Q2     K0  R1  S1\n",
            "3   K1     K0  P2  Q2     K0  R2  S2\n",
            "4   K2     K1  P3  Q3     K0  R3  S3\n"
          ]
        }
      ]
    },
    {
      "cell_type": "code",
      "source": [
        "# 13. Write a Pandas program to combine the columns of two potentially differently-indexed DataFrames into a single result DataFrame.\n",
        "import pandas as pd\n",
        "data1 = pd.DataFrame({'A': ['A0', 'A1', 'A2'],\n",
        "                      'B': ['B0', 'B1', 'B2']},\n",
        "                     index=['K0', 'K1', 'K2'])\n",
        "\n",
        "data2 = pd.DataFrame({'C': ['C0', 'C2', 'C3'],\n",
        "                      'D': ['D0', 'D2', 'D3']},\n",
        "                     index=['K0', 'K2', 'K3'])\n",
        "\n",
        "print(\"Original DataFrames:\")\n",
        "print(data1)\n",
        "print(\"--------------------\")\n",
        "print(data2)\n",
        "print(\"\\nMerged Data (Joining on index):\")\n",
        "result = data1.join(data2)\n",
        "print(result)\n"
      ],
      "metadata": {
        "id": "YglsLYhsHC9_",
        "colab": {
          "base_uri": "https://localhost:8080/"
        },
        "outputId": "4c8f92f3-245b-4b30-d1b2-db8a2bf304fb"
      },
      "execution_count": 68,
      "outputs": [
        {
          "output_type": "stream",
          "name": "stdout",
          "text": [
            "Original DataFrames:\n",
            "     A   B\n",
            "K0  A0  B0\n",
            "K1  A1  B1\n",
            "K2  A2  B2\n",
            "--------------------\n",
            "     C   D\n",
            "K0  C0  D0\n",
            "K2  C2  D2\n",
            "K3  C3  D3\n",
            "\n",
            "Merged Data (Joining on index):\n",
            "     A   B    C    D\n",
            "K0  A0  B0   C0   D0\n",
            "K1  A1  B1  NaN  NaN\n",
            "K2  A2  B2   C2   D2\n"
          ]
        }
      ]
    },
    {
      "cell_type": "code",
      "source": [
        "# 14. Write a Pandas program to merge two given dataframes with different columns.\n",
        "import pandas as pd\n",
        "data1 = pd.DataFrame({'key1': ['K0', 'K0', 'K1', 'K2'],\n",
        "                     'key2': ['K0', 'K1', 'K0', 'K1'],\n",
        "                     'P': ['P0', 'P1', 'P2', 'P3'],\n",
        "                     'Q': ['Q0', 'Q1', 'Q2', 'Q3']})\n",
        "data2 = pd.DataFrame({'key1': ['K0', 'K1', 'K1', 'K2'],\n",
        "                      'key2': ['K0', 'K0', 'K0', 'K0'],\n",
        "                      'R': ['R0', 'R1', 'R2', 'R3'],\n",
        "                      'S': ['S0', 'S1', 'S2', 'S3']})\n",
        "print(\"Original DataFrames:\")\n",
        "print(data1)\n",
        "print(\"--------------------\")\n",
        "print(data2)\n",
        "print(\"\\nMerge two dataframes with different columns:\")\n",
        "result = pd.concat([data1,data2], axis=0, ignore_index=True)\n",
        "print(result)\n"
      ],
      "metadata": {
        "id": "GH9j0GoiHC7i",
        "colab": {
          "base_uri": "https://localhost:8080/"
        },
        "outputId": "aeb2c7ce-9334-4bdf-b2ae-62a82987f81c"
      },
      "execution_count": 69,
      "outputs": [
        {
          "output_type": "stream",
          "name": "stdout",
          "text": [
            "Original DataFrames:\n",
            "  key1 key2   P   Q\n",
            "0   K0   K0  P0  Q0\n",
            "1   K0   K1  P1  Q1\n",
            "2   K1   K0  P2  Q2\n",
            "3   K2   K1  P3  Q3\n",
            "--------------------\n",
            "  key1 key2   R   S\n",
            "0   K0   K0  R0  S0\n",
            "1   K1   K0  R1  S1\n",
            "2   K1   K0  R2  S2\n",
            "3   K2   K0  R3  S3\n",
            "\n",
            "Merge two dataframes with different columns:\n",
            "  key1 key2    P    Q    R    S\n",
            "0   K0   K0   P0   Q0  NaN  NaN\n",
            "1   K0   K1   P1   Q1  NaN  NaN\n",
            "2   K1   K0   P2   Q2  NaN  NaN\n",
            "3   K2   K1   P3   Q3  NaN  NaN\n",
            "4   K0   K0  NaN  NaN   R0   S0\n",
            "5   K1   K0  NaN  NaN   R1   S1\n",
            "6   K1   K0  NaN  NaN   R2   S2\n",
            "7   K2   K0  NaN  NaN   R3   S3\n"
          ]
        }
      ]
    },
    {
      "cell_type": "code",
      "source": [
        "# 15. Write a Pandas program to Combine two DataFrame objects by filling null values in one DataFrame with non-null values from other DataFrame.\n",
        "import pandas as pd\n",
        "df1 = pd.DataFrame({'A': [None, 0, None], 'B': [3, 4, 5]})\n",
        "df2 = pd.DataFrame({'A': [1, 1, 3], 'B': [3, None, 3]})\n",
        "df1.combine_first(df2)\n",
        "print(\"Original DataFrames:\")\n",
        "print(df1)\n",
        "print(\"--------------------\")\n",
        "print(df2)\n",
        "print(\"\\nMerge two dataframes with different columns:\")\n",
        "result = df1.combine_first(df2)\n",
        "print(result)\n"
      ],
      "metadata": {
        "id": "mNT8e98pHC48",
        "colab": {
          "base_uri": "https://localhost:8080/"
        },
        "outputId": "f2dabd7a-95ae-422d-c0a7-e22a887c2697"
      },
      "execution_count": 70,
      "outputs": [
        {
          "output_type": "stream",
          "name": "stdout",
          "text": [
            "Original DataFrames:\n",
            "     A  B\n",
            "0  NaN  3\n",
            "1  0.0  4\n",
            "2  NaN  5\n",
            "--------------------\n",
            "   A    B\n",
            "0  1  3.0\n",
            "1  1  NaN\n",
            "2  3  3.0\n",
            "\n",
            "Merge two dataframes with different columns:\n",
            "     A    B\n",
            "0  1.0  3.0\n",
            "1  0.0  4.0\n",
            "2  3.0  5.0\n"
          ]
        }
      ]
    },
    {
      "cell_type": "code",
      "source": [],
      "metadata": {
        "id": "eWX1vhTHHC13"
      },
      "execution_count": 70,
      "outputs": []
    },
    {
      "cell_type": "markdown",
      "source": [
        "# **Pandas Advanced Merging and Joining**"
      ],
      "metadata": {
        "id": "tYd5lA4bKm01"
      }
    },
    {
      "cell_type": "code",
      "source": [
        "# 1. Write a Pandas program to merge two DataFrames on a single column.\n",
        "import pandas as pd\n",
        "\n",
        "# Create two sample DataFrames\n",
        "df1 = pd.DataFrame({\n",
        "    'ID': [1, 2, 3],\n",
        "    'Name': ['Selena', 'Annabel', 'Caeso']\n",
        "})\n",
        "\n",
        "df2 = pd.DataFrame({\n",
        "    'ID': [2, 3, 4],\n",
        "    'Age': [25, 30, 22]\n",
        "})\n",
        "\n",
        "# Merge the two DataFrames on the 'ID' column\n",
        "merged_df = pd.merge(df1, df2, on='ID')\n",
        "\n",
        "# Output the result\n",
        "print(merged_df)\n"
      ],
      "metadata": {
        "id": "fK89gtCDHCya",
        "colab": {
          "base_uri": "https://localhost:8080/"
        },
        "outputId": "fa1d26ab-c43b-483c-f22f-91afb4f6d8a6"
      },
      "execution_count": 71,
      "outputs": [
        {
          "output_type": "stream",
          "name": "stdout",
          "text": [
            "   ID     Name  Age\n",
            "0   2  Annabel   25\n",
            "1   3    Caeso   30\n"
          ]
        }
      ]
    },
    {
      "cell_type": "code",
      "source": [
        "# 2. Write a Pandas program to perform an outer join on two DataFrames.\n",
        "import pandas as pd\n",
        "\n",
        "# Create two sample DataFrames\n",
        "df1 = pd.DataFrame({\n",
        "    'ID': [1, 2, 3],\n",
        "    'Name': ['Selena', 'Annabel', 'Caeso']\n",
        "})\n",
        "\n",
        "df2 = pd.DataFrame({\n",
        "    'ID': [2, 3, 4],\n",
        "    'Age': [25, 30, 22]\n",
        "})\n",
        "\n",
        "# Perform an outer join on the 'ID' column\n",
        "outer_joined_df = pd.merge(df1, df2, on='ID', how='outer')\n",
        "\n",
        "# Output the result\n",
        "print(outer_joined_df)\n"
      ],
      "metadata": {
        "id": "eIMuY7nRHCvn",
        "colab": {
          "base_uri": "https://localhost:8080/"
        },
        "outputId": "ea98bf8f-d75c-473f-df0f-f4657869da23"
      },
      "execution_count": 72,
      "outputs": [
        {
          "output_type": "stream",
          "name": "stdout",
          "text": [
            "   ID     Name   Age\n",
            "0   1   Selena   NaN\n",
            "1   2  Annabel  25.0\n",
            "2   3    Caeso  30.0\n",
            "3   4      NaN  22.0\n"
          ]
        }
      ]
    },
    {
      "cell_type": "code",
      "source": [
        "# 3. Write a Pandas program that performs a left join of two DataFrames.\n",
        "import pandas as pd\n",
        "\n",
        "# Create two sample DataFrames\n",
        "df1 = pd.DataFrame({\n",
        "    'ID': [1, 2, 3],\n",
        "    'Name': ['Selena', 'Annabel', 'Caeso']\n",
        "})\n",
        "\n",
        "df2 = pd.DataFrame({\n",
        "    'ID': [2, 3, 4],\n",
        "    'Age': [25, 30, 22]\n",
        "})\n",
        "\n",
        "# Perform a left join on the 'ID' column\n",
        "left_joined_df = pd.merge(df1, df2, on='ID', how='left')\n",
        "\n",
        "# Output the result\n",
        "print(left_joined_df)\n"
      ],
      "metadata": {
        "id": "vAq6yJncHCqH",
        "colab": {
          "base_uri": "https://localhost:8080/"
        },
        "outputId": "6c04ec83-00c2-4e00-a870-6c709537a1eb"
      },
      "execution_count": 73,
      "outputs": [
        {
          "output_type": "stream",
          "name": "stdout",
          "text": [
            "   ID     Name   Age\n",
            "0   1   Selena   NaN\n",
            "1   2  Annabel  25.0\n",
            "2   3    Caeso  30.0\n"
          ]
        }
      ]
    },
    {
      "cell_type": "code",
      "source": [
        "# 4. Write a Pandas program that performs a right join of two DataFrames.\n",
        "import pandas as pd\n",
        "\n",
        "# Create two sample DataFrames\n",
        "df1 = pd.DataFrame({\n",
        "    'ID': [1, 2, 3],\n",
        "    'Name': ['Selena', 'Annabel', 'Caeso']\n",
        "    })\n",
        "\n",
        "df2 = pd.DataFrame({\n",
        "    'ID': [2, 3, 4],\n",
        "    'Age': [25, 30, 22]\n",
        "})\n",
        "\n",
        "# Perform a right join on the 'ID' column\n",
        "right_joined_df = pd.merge(df1, df2, on='ID', how='right')\n",
        "\n",
        "# Output the result\n",
        "print(right_joined_df)\n"
      ],
      "metadata": {
        "id": "JBaf9uT2HCmv",
        "colab": {
          "base_uri": "https://localhost:8080/"
        },
        "outputId": "f174b901-a10c-421b-ffb7-a4fc6e391ea4"
      },
      "execution_count": 74,
      "outputs": [
        {
          "output_type": "stream",
          "name": "stdout",
          "text": [
            "   ID     Name  Age\n",
            "0   2  Annabel   25\n",
            "1   3    Caeso   30\n",
            "2   4      NaN   22\n"
          ]
        }
      ]
    },
    {
      "cell_type": "code",
      "source": [
        "# 5. Write a Pandas program to merge two DataFrames on multiple columns.\n",
        "import pandas as pd\n",
        "\n",
        "# Create two sample DataFrames\n",
        "df1 = pd.DataFrame({\n",
        "    'ID': [1, 2, 3],\n",
        "    'Name': ['Selena', 'Annabel', 'Caeso'],\n",
        "    'Age': [25, 30, 22]\n",
        "})\n",
        "\n",
        "df2 = pd.DataFrame({\n",
        "    'ID': [1, 2, 3],\n",
        "    'Name': ['Selena', 'Annabel', 'Caeso'],\n",
        "    'Salary': [50000, 60000, 70000]\n",
        "})\n",
        "\n",
        "# Merge the DataFrames on both 'ID' and 'Name' columns\n",
        "merged_df = pd.merge(df1, df2, on=['ID', 'Name'])\n",
        "\n",
        "# Output the result\n",
        "print(merged_df)\n"
      ],
      "metadata": {
        "id": "b1HC0Q0eHCj3",
        "colab": {
          "base_uri": "https://localhost:8080/"
        },
        "outputId": "98a97fc0-a0ae-4a77-ff11-e8b9328bbecb"
      },
      "execution_count": 75,
      "outputs": [
        {
          "output_type": "stream",
          "name": "stdout",
          "text": [
            "   ID     Name  Age  Salary\n",
            "0   1   Selena   25   50000\n",
            "1   2  Annabel   30   60000\n",
            "2   3    Caeso   22   70000\n"
          ]
        }
      ]
    },
    {
      "cell_type": "code",
      "source": [
        "# 6. Write a Pandas program that merges DataFrames with overlapping column names.\n",
        "import pandas as pd\n",
        "\n",
        "# Create two sample DataFrames with overlapping column names\n",
        "df1 = pd.DataFrame({\n",
        "    'ID': [1, 2, 3],\n",
        "    'Name': ['Selena', 'Annabel', 'Caeso'],\n",
        "    'Value': [100, 200, 300]\n",
        "})\n",
        "\n",
        "df2 = pd.DataFrame({\n",
        "    'ID': [1, 2, 3],\n",
        "    'Name': ['Selena', 'Annabel', 'Caeso'],\n",
        "    'Value': [400, 500, 600]\n",
        "})\n",
        "\n",
        "# Merge the DataFrames, adding suffixes to overlapping columns\n",
        "merged_df = pd.merge(df1, df2, on=['ID', 'Name'], suffixes=('_left', '_right'))\n",
        "\n",
        "# Output the result\n",
        "print(merged_df)\n"
      ],
      "metadata": {
        "id": "UhLPeLK2HChI",
        "colab": {
          "base_uri": "https://localhost:8080/"
        },
        "outputId": "9a726218-9348-479b-a19b-39f0e2e53def"
      },
      "execution_count": 76,
      "outputs": [
        {
          "output_type": "stream",
          "name": "stdout",
          "text": [
            "   ID     Name  Value_left  Value_right\n",
            "0   1   Selena         100          400\n",
            "1   2  Annabel         200          500\n",
            "2   3    Caeso         300          600\n"
          ]
        }
      ]
    },
    {
      "cell_type": "code",
      "source": [
        "# 7. Write a Pandas program to merge two DataFrames on their indexes.\n",
        "import pandas as pd\n",
        "\n",
        "# Create two sample DataFrames with indexes\n",
        "df1 = pd.DataFrame({\n",
        "    'Name': ['Selena', 'Annabel', 'Caeso'],\n",
        "    'Age': [25, 30, 22]\n",
        "}, index=[1, 2, 3])\n",
        "\n",
        "df2 = pd.DataFrame({\n",
        "    'Salary': [50000, 60000, 70000]\n",
        "}, index=[1, 2, 3])\n",
        "\n",
        "# Merge the DataFrames on their indexes\n",
        "merged_df = pd.merge(df1, df2, left_index=True, right_index=True)\n",
        "\n",
        "# Output the result\n",
        "print(merged_df)\n"
      ],
      "metadata": {
        "id": "GOFwNaA7HCeP",
        "colab": {
          "base_uri": "https://localhost:8080/"
        },
        "outputId": "865f03c6-9d82-43da-ea83-10d540d0d9f1"
      },
      "execution_count": 77,
      "outputs": [
        {
          "output_type": "stream",
          "name": "stdout",
          "text": [
            "      Name  Age  Salary\n",
            "1   Selena   25   50000\n",
            "2  Annabel   30   60000\n",
            "3    Caeso   22   70000\n"
          ]
        }
      ]
    },
    {
      "cell_type": "code",
      "source": [
        "# 8. Write a Pandas program to merge different column names in DataFrames.\n",
        "import pandas as pd\n",
        "\n",
        "# Create two sample DataFrames with different join column names\n",
        "df1 = pd.DataFrame({\n",
        "    'Employee_ID': [1, 2, 3],\n",
        "    'Name': ['Selena', 'Annabel', 'Caeso']\n",
        "})\n",
        "\n",
        "df2 = pd.DataFrame({\n",
        "    'ID': [1, 2, 3],\n",
        "    'Salary': [50000, 60000, 70000]\n",
        "})\n",
        "\n",
        "# Merge the DataFrames, specifying different column names for the join\n",
        "merged_df = pd.merge(df1, df2, left_on='Employee_ID', right_on='ID')\n",
        "\n",
        "# Output the result\n",
        "print(merged_df)\n"
      ],
      "metadata": {
        "colab": {
          "base_uri": "https://localhost:8080/"
        },
        "id": "sGp6nHdHMMYu",
        "outputId": "f62df41f-23c2-4176-b6c1-12195127a331"
      },
      "execution_count": 78,
      "outputs": [
        {
          "output_type": "stream",
          "name": "stdout",
          "text": [
            "   Employee_ID     Name  ID  Salary\n",
            "0            1   Selena   1   50000\n",
            "1            2  Annabel   2   60000\n",
            "2            3    Caeso   3   70000\n"
          ]
        }
      ]
    },
    {
      "cell_type": "code",
      "source": [
        "# 9. Write a Pandas program to merge DataFrames with duplicate Keys.\n",
        "import pandas as pd\n",
        "\n",
        "# Create two sample DataFrames with duplicate keys\n",
        "df1 = pd.DataFrame({\n",
        "    'ID': [1, 1, 2],\n",
        "    'Name': ['Annabel', 'Annabel', 'Selena']\n",
        "})\n",
        "\n",
        "df2 = pd.DataFrame({\n",
        "    'ID': [1, 2],\n",
        "    'Age': [25, 30]\n",
        "})\n",
        "\n",
        "# Merge the DataFrames with duplicate keys\n",
        "merged_df = pd.merge(df1, df2, on='ID')\n",
        "\n",
        "# Output the result\n",
        "print(merged_df)\n"
      ],
      "metadata": {
        "colab": {
          "base_uri": "https://localhost:8080/"
        },
        "id": "dYugezRVMMVm",
        "outputId": "4115e877-382f-4fe9-a634-474139c0d794"
      },
      "execution_count": 79,
      "outputs": [
        {
          "output_type": "stream",
          "name": "stdout",
          "text": [
            "   ID     Name  Age\n",
            "0   1  Annabel   25\n",
            "1   1  Annabel   25\n",
            "2   2   Selena   30\n"
          ]
        }
      ]
    },
    {
      "cell_type": "code",
      "source": [
        "# 10. Write a Pandas program to merge multiple DataFrames on a common column.\n",
        "import pandas as pd\n",
        "\n",
        "# Create three sample DataFrames\n",
        "df1 = pd.DataFrame({\n",
        "    'ID': [1, 2, 3],\n",
        "    'Name': ['Selena', 'Annabel', 'Caeso']\n",
        "})\n",
        "\n",
        "df2 = pd.DataFrame({\n",
        "    'ID': [1, 2, 3],\n",
        "    'Age': [25, 30, 22]\n",
        "})\n",
        "\n",
        "df3 = pd.DataFrame({\n",
        "    'ID': [1, 2, 3],\n",
        "    'Salary': [50000, 60000, 70000]\n",
        "})\n",
        "\n",
        "# Merge the three DataFrames on the 'ID' column\n",
        "merged_df = pd.merge(pd.merge(df1, df2, on='ID'), df3, on='ID')\n",
        "\n",
        "# Output the result\n",
        "print(merged_df)\n"
      ],
      "metadata": {
        "colab": {
          "base_uri": "https://localhost:8080/"
        },
        "id": "b5H3XjHvMMQL",
        "outputId": "da84a9da-465e-48f8-ae93-4e427617eedf"
      },
      "execution_count": 80,
      "outputs": [
        {
          "output_type": "stream",
          "name": "stdout",
          "text": [
            "   ID     Name  Age  Salary\n",
            "0   1   Selena   25   50000\n",
            "1   2  Annabel   30   60000\n",
            "2   3    Caeso   22   70000\n"
          ]
        }
      ]
    },
    {
      "cell_type": "code",
      "source": [
        "# 11. Write a Pandas program to merge DataFrames using join() on Index.\n",
        "import pandas as pd\n",
        "\n",
        "# Create two sample DataFrames with indexes\n",
        "df1 = pd.DataFrame({\n",
        "    'Name': ['Selena', 'Annabel', 'Caeso'],\n",
        "    'Age': [25, 30, 22]\n",
        "}, index=[1, 2, 3])\n",
        "\n",
        "df2 = pd.DataFrame({\n",
        "    'Salary': [50000, 60000, 70000]\n",
        "}, index=[1, 2, 3])\n",
        "\n",
        "# Perform a join on the indexes\n",
        "joined_df = df1.join(df2)\n",
        "\n",
        "# Output the result\n",
        "print(joined_df)\n"
      ],
      "metadata": {
        "colab": {
          "base_uri": "https://localhost:8080/"
        },
        "id": "vWQ_V7adMMND",
        "outputId": "1e630042-44d1-498c-88c0-73d3be421a66"
      },
      "execution_count": 81,
      "outputs": [
        {
          "output_type": "stream",
          "name": "stdout",
          "text": [
            "      Name  Age  Salary\n",
            "1   Selena   25   50000\n",
            "2  Annabel   30   60000\n",
            "3    Caeso   22   70000\n"
          ]
        }
      ]
    },
    {
      "cell_type": "code",
      "source": [
        "# 12. Write a Pandas program to merge with custom indicator to track source.\n",
        "import pandas as pd\n",
        "\n",
        "# Create two sample DataFrames\n",
        "df1 = pd.DataFrame({\n",
        "    'ID': [1, 2, 3],\n",
        "    'Name': ['Selena', 'Annabel', 'Caeso']\n",
        "})\n",
        "\n",
        "df2 = pd.DataFrame({\n",
        "    'ID': [2, 3, 4],\n",
        "    'Age': [25, 30, 22]\n",
        "})\n",
        "\n",
        "# Merge the DataFrames with an indicator\n",
        "merged_df = pd.merge(df1, df2, on='ID', how='outer', indicator=True)\n",
        "\n",
        "# Output the result\n",
        "print(merged_df)\n"
      ],
      "metadata": {
        "colab": {
          "base_uri": "https://localhost:8080/"
        },
        "id": "S81Eyl5iMMKb",
        "outputId": "aee43642-dbba-417f-93b6-40df7a2558b9"
      },
      "execution_count": 82,
      "outputs": [
        {
          "output_type": "stream",
          "name": "stdout",
          "text": [
            "   ID     Name   Age      _merge\n",
            "0   1   Selena   NaN   left_only\n",
            "1   2  Annabel  25.0        both\n",
            "2   3    Caeso  30.0        both\n",
            "3   4      NaN  22.0  right_only\n"
          ]
        }
      ]
    },
    {
      "cell_type": "code",
      "source": [
        "# 13. Write a Pandas program to merge two DataFrames using multiple keys and specific join conditions.\n",
        "import pandas as pd\n",
        "\n",
        "# Create two sample DataFrames\n",
        "df1 = pd.DataFrame({\n",
        "    'ID': [1, 2, 3, 4],\n",
        "    'Name': ['Selena', 'Annabel', 'Charlie', 'Caeso'],\n",
        "    'City': ['NY', 'LA', 'NY', 'LA']\n",
        "})\n",
        "\n",
        "df2 = pd.DataFrame({\n",
        "    'ID': [2, 3, 4, 5],\n",
        "    'Name': ['Annabel', 'Charlie', 'Caeso', 'Eve'],\n",
        "    'City': ['LA', 'NY', 'LA', 'NY'],\n",
        "    'Age': [30, 22, 25, 28]\n",
        "})\n",
        "\n",
        "# Merge the DataFrames on both 'ID' and 'City'\n",
        "merged_df = pd.merge(df1, df2, on=['ID', 'City'], how='inner')\n",
        "\n",
        "# Output the result\n",
        "print(merged_df)\n"
      ],
      "metadata": {
        "colab": {
          "base_uri": "https://localhost:8080/"
        },
        "id": "bD6A7JJ7MMHL",
        "outputId": "4157a4bb-0f3b-4457-efb6-65f332ea0e09"
      },
      "execution_count": 83,
      "outputs": [
        {
          "output_type": "stream",
          "name": "stdout",
          "text": [
            "   ID   Name_x City   Name_y  Age\n",
            "0   2  Annabel   LA  Annabel   30\n",
            "1   3  Charlie   NY  Charlie   22\n",
            "2   4    Caeso   LA    Caeso   25\n"
          ]
        }
      ]
    },
    {
      "cell_type": "code",
      "source": [
        "# 14. Write a Pandas program to merge DataFrames using suffixes for overlapping columns.\n",
        "import pandas as pd\n",
        "\n",
        "# Create two sample DataFrames with overlapping column names\n",
        "df1 = pd.DataFrame({\n",
        "    'ID': [1, 2, 3],\n",
        "    'Name': ['Selena', 'Annabel', 'Caeso'],\n",
        "    'Age': [25, 30, 22]\n",
        "})\n",
        "\n",
        "df2 = pd.DataFrame({\n",
        "    'ID': [1, 2, 3],\n",
        "    'Name': ['Selena', 'Annabel', 'Caeso'],\n",
        "    'Age': [27, 31, 23]\n",
        "})\n",
        "\n",
        "# Merge the DataFrames, handling overlapping 'Age' column with suffixes\n",
        "merged_df = pd.merge(df1, df2, on=['ID', 'Name'], suffixes=('_left', '_right'))\n",
        "\n",
        "# Output the result\n",
        "print(merged_df)\n"
      ],
      "metadata": {
        "colab": {
          "base_uri": "https://localhost:8080/"
        },
        "id": "wI5owHWHMMEz",
        "outputId": "b2d701f8-3c6c-435e-8be0-05a8f2a53435"
      },
      "execution_count": 84,
      "outputs": [
        {
          "output_type": "stream",
          "name": "stdout",
          "text": [
            "   ID     Name  Age_left  Age_right\n",
            "0   1   Selena        25         27\n",
            "1   2  Annabel        30         31\n",
            "2   3    Caeso        22         23\n"
          ]
        }
      ]
    },
    {
      "cell_type": "code",
      "source": [
        "# 15. Write a Pandas program to merge DataFrames with custom sorting.\n",
        "import pandas as pd\n",
        "# Create two sample DataFrames\n",
        "df1 = pd.DataFrame({\n",
        "    'ID': [1, 2, 3],\n",
        "    'Name': ['Selena', 'Annabel', 'Caeso']\n",
        "})\n",
        "\n",
        "df2 = pd.DataFrame({\n",
        "    'ID': [2, 3, 1],\n",
        "    'Age': [30, 22, 25]\n",
        "})\n",
        "\n",
        "# Merge the DataFrames on the 'ID' column\n",
        "merged_df = pd.merge(df1, df2, on='ID')\n",
        "\n",
        "# Sort the result by 'Age' column\n",
        "sorted_df = merged_df.sort_values(by='Age')\n",
        "\n",
        "# Output the result\n",
        "print(sorted_df)\n"
      ],
      "metadata": {
        "colab": {
          "base_uri": "https://localhost:8080/"
        },
        "id": "5EqZzrn0MMCE",
        "outputId": "167bf9ff-dff7-4e04-ec0a-c73ca6ea4e8c"
      },
      "execution_count": 85,
      "outputs": [
        {
          "output_type": "stream",
          "name": "stdout",
          "text": [
            "   ID     Name  Age\n",
            "2   3    Caeso   22\n",
            "0   1   Selena   25\n",
            "1   2  Annabel   30\n"
          ]
        }
      ]
    },
    {
      "cell_type": "code",
      "source": [
        "# 16. Write a Pandas program to merge DataFrames and drop duplicates.\n",
        "import pandas as pd\n",
        "\n",
        "# Create two sample DataFrames with potential duplicates\n",
        "df1 = pd.DataFrame({\n",
        "    'ID': [1, 2, 3],\n",
        "    'Name': ['Annabel', 'Selena', 'Caeso']\n",
        "})\n",
        "\n",
        "df2 = pd.DataFrame({\n",
        "    'ID': [2, 3, 1],\n",
        "    'Name': ['Selena', 'Caeso', 'Annabel'],\n",
        "    'Age': [30, 22, 25]\n",
        "})\n",
        "\n",
        "# Merge the DataFrames on the 'ID' column\n",
        "merged_df = pd.merge(df1, df2, on=['ID', 'Name'])\n",
        "\n",
        "# Drop any duplicate rows from the merged DataFrame\n",
        "merged_df_no_duplicates = merged_df.drop_duplicates()\n",
        "\n",
        "# Output the result\n",
        "print(merged_df_no_duplicates)\n"
      ],
      "metadata": {
        "colab": {
          "base_uri": "https://localhost:8080/"
        },
        "id": "Onl9pVDrML84",
        "outputId": "d7f4c666-e521-409d-b2d5-0b08e39c4c6d"
      },
      "execution_count": 86,
      "outputs": [
        {
          "output_type": "stream",
          "name": "stdout",
          "text": [
            "   ID     Name  Age\n",
            "0   1  Annabel   25\n",
            "1   2   Selena   30\n",
            "2   3    Caeso   22\n"
          ]
        }
      ]
    },
    {
      "cell_type": "code",
      "source": [
        "# 17. Write a Pandas program to merge DataFrames with missing data.\n",
        "import pandas as pd\n",
        "\n",
        "# Create two sample DataFrames with missing data\n",
        "df1 = pd.DataFrame({\n",
        "    'ID': [1, 2, 3],\n",
        "    'Name': ['Selena', 'Annabel', 'Caeso']\n",
        "})\n",
        "\n",
        "df2 = pd.DataFrame({\n",
        "    'ID': [1, 3, 4],\n",
        "    'Age': [25, 22, 28]\n",
        "})\n",
        "\n",
        "# Perform an outer merge to include all rows and handle missing data\n",
        "merged_df = pd.merge(df1, df2, on='ID', how='outer')\n",
        "\n",
        "# Fill missing values with 'Unknown' for Name and 0 for Age\n",
        "merged_df['Name'].fillna('Unknown', inplace=True)\n",
        "merged_df['Age'].fillna(0, inplace=True)\n",
        "\n",
        "# Output the result\n",
        "print(merged_df)\n"
      ],
      "metadata": {
        "colab": {
          "base_uri": "https://localhost:8080/"
        },
        "id": "uX1yHQ6lML5z",
        "outputId": "b460f48a-949d-4d76-a89b-4582a48b8050"
      },
      "execution_count": 87,
      "outputs": [
        {
          "output_type": "stream",
          "name": "stdout",
          "text": [
            "   ID     Name   Age\n",
            "0   1   Selena  25.0\n",
            "1   2  Annabel   0.0\n",
            "2   3    Caeso  22.0\n",
            "3   4  Unknown  28.0\n"
          ]
        },
        {
          "output_type": "stream",
          "name": "stderr",
          "text": [
            "<ipython-input-87-fc08988144e0>:19: FutureWarning: A value is trying to be set on a copy of a DataFrame or Series through chained assignment using an inplace method.\n",
            "The behavior will change in pandas 3.0. This inplace method will never work because the intermediate object on which we are setting values always behaves as a copy.\n",
            "\n",
            "For example, when doing 'df[col].method(value, inplace=True)', try using 'df.method({col: value}, inplace=True)' or df[col] = df[col].method(value) instead, to perform the operation inplace on the original object.\n",
            "\n",
            "\n",
            "  merged_df['Name'].fillna('Unknown', inplace=True)\n",
            "<ipython-input-87-fc08988144e0>:20: FutureWarning: A value is trying to be set on a copy of a DataFrame or Series through chained assignment using an inplace method.\n",
            "The behavior will change in pandas 3.0. This inplace method will never work because the intermediate object on which we are setting values always behaves as a copy.\n",
            "\n",
            "For example, when doing 'df[col].method(value, inplace=True)', try using 'df.method({col: value}, inplace=True)' or df[col] = df[col].method(value) instead, to perform the operation inplace on the original object.\n",
            "\n",
            "\n",
            "  merged_df['Age'].fillna(0, inplace=True)\n"
          ]
        }
      ]
    },
    {
      "cell_type": "code",
      "source": [
        "# 18. Write a Pandas program to merge DataFrames and rename columns after merge.\n",
        "import pandas as pd\n",
        "\n",
        "# Create two sample DataFrames\n",
        "df1 = pd.DataFrame({\n",
        "    'ID': [1, 2, 3],\n",
        "    'Name': ['Selena', 'Annabel', 'Caeso']\n",
        "})\n",
        "\n",
        "df2 = pd.DataFrame({\n",
        "    'ID': [1, 2, 3],\n",
        "    'Salary': [50000, 60000, 70000]\n",
        "})\n",
        "\n",
        "# Merge the DataFrames on the 'ID' column\n",
        "merged_df = pd.merge(df1, df2, on='ID')\n",
        "\n",
        "# Rename the 'Salary' column to 'Annual_Income'\n",
        "merged_df.rename(columns={'Salary': 'Annual_Income'}, inplace=True)\n",
        "\n",
        "# Output the result\n",
        "print(merged_df)\n"
      ],
      "metadata": {
        "colab": {
          "base_uri": "https://localhost:8080/"
        },
        "id": "Swegu4UFML2s",
        "outputId": "b28a7e59-2b6a-47f5-b020-e44692a25e52"
      },
      "execution_count": 88,
      "outputs": [
        {
          "output_type": "stream",
          "name": "stdout",
          "text": [
            "   ID     Name  Annual_Income\n",
            "0   1   Selena          50000\n",
            "1   2  Annabel          60000\n",
            "2   3    Caeso          70000\n"
          ]
        }
      ]
    },
    {
      "cell_type": "code",
      "source": [],
      "metadata": {
        "id": "Qp-37BFLNbSb"
      },
      "execution_count": 88,
      "outputs": []
    },
    {
      "cell_type": "code",
      "source": [],
      "metadata": {
        "id": "2HXFmlu6NbPe"
      },
      "execution_count": 88,
      "outputs": []
    },
    {
      "cell_type": "code",
      "source": [],
      "metadata": {
        "id": "HdHz9jaDNbMl"
      },
      "execution_count": 88,
      "outputs": []
    },
    {
      "cell_type": "code",
      "source": [],
      "metadata": {
        "id": "2Mco_uGkNbJu"
      },
      "execution_count": 88,
      "outputs": []
    },
    {
      "cell_type": "code",
      "source": [],
      "metadata": {
        "id": "1e25MRiXNbGr"
      },
      "execution_count": 88,
      "outputs": []
    },
    {
      "cell_type": "code",
      "source": [],
      "metadata": {
        "id": "UNzjaY_-Na_b"
      },
      "execution_count": 88,
      "outputs": []
    }
  ]
}